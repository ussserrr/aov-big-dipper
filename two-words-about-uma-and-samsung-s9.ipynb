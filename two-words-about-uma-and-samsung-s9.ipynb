{
 "cells": [
  {
   "cell_type": "markdown",
   "metadata": {},
   "source": [
    "One day I've received such a photo from a friend of mine:\n",
    "\n",
    "![UMa](https://raw.githubusercontent.com/ussserrr/aov-big-dipper/master/uma.jpg)\n",
    "\n",
    "You've got it right – this is the *Big Dipper* asterism, a well-known part of the *Ursa Major* (UMa) constellation (the photo is a little bit edited to be able to see the contour more easily, you can find an original one in the GitHub' repository). Also, with the image, a message has been supplied that says \"photo is taken by the new glossy Samsung Galaxy S9\". And this was a point where I suspected an amiss. Is it some kind of zooming or cropping had been used on this picture or just the UMa is so big that takes almost a third of a horizontal dimension?! But I've checked this, the result was negative. And then I said – I can verify my assumptions and doubts by myself anyway! [To collider!](https://www.smbc-comics.com/comic/2014-11-25) And as a *collider*, we will use, of course, Python, [Astropy](http://www.astropy.org) and some optical knowledge to reveal the truth.\n",
    "\n",
    "Consider the following geometry (rough):\n",
    "\n",
    "![Geometry](https://raw.githubusercontent.com/ussserrr/aov-big-dipper/master/geometry.jpg)\n",
    "\n",
    "First of all, we need to obtain necessary parameters of the S9' camera. It seems like resolution, ratio, pixel size and lens' focal length will be enough, so we googling and grab them from [this article](https://wccftech.com/samsung-galaxy-s9-galaxy-s9-launched-specifications-features-design-price-availability/):"
   ]
  },
  {
   "cell_type": "code",
   "execution_count": 1,
   "metadata": {},
   "outputs": [],
   "source": [
    "sams_width = 4032\n",
    "sams_height = 3024\n",
    "sams_pixel_size = 1.4e-6\n",
    "sams_focal_length = 26e-3"
   ]
  },
  {
   "cell_type": "markdown",
   "metadata": {},
   "source": [
    "Before proceeding, keep in mind that the value of a focal length – 26 mm – is scaled to the [full-frame format](https://en.wikipedia.org/wiki/135_film) so to get the actual number we need to calculate a [crop factor](https://en.wikipedia.org/wiki/Crop_factor) of our camera. It simply shows how small our sensor relative to the 35 mm FF format (where diagonal is approximately 43.3 mm):"
   ]
  },
  {
   "cell_type": "code",
   "execution_count": 2,
   "metadata": {},
   "outputs": [
    {
     "data": {
      "image/png": "[encoded data removed]",
      "text/latex": [
       "$$C_{f} = \\frac{0.0433}{\\sqrt{PixelSize^{2} height^{2} + PixelSize^{2} width^{2}}}$$"
      ],
      "text/plain": [
       "                         0.0433                  \n",
       "C_f = ───────────────────────────────────────────\n",
       "         ________________________________________\n",
       "        ╱          2       2            2      2 \n",
       "      ╲╱  PixelSize ⋅height  + PixelSize ⋅width  "
      ]
     },
     "metadata": {},
     "output_type": "display_data"
    },
    {
     "data": {
      "image/png": "[encoded data removed]",
      "text/latex": [
       "$$C_{f} = 6.13662131519274$$"
      ],
      "text/plain": [
       "C_f = 6.13662131519274"
      ]
     },
     "metadata": {},
     "output_type": "display_data"
    }
   ],
   "source": [
    "import sympy\n",
    "sympy.init_printing()\n",
    "\n",
    "C_f, width, height, pixel_size = sympy.symbols(\"C_f width height PixelSize\")\n",
    "crop_factor_eq = sympy.Eq(C_f, 43.3e-3 / sympy.sqrt((width*pixel_size)**2 + (height*pixel_size)**2))\n",
    "display(crop_factor_eq)\n",
    "width = sams_width\n",
    "height = sams_height\n",
    "pixel_size = sams_pixel_size\n",
    "crop_factor_eq = sympy.Eq(C_f, 43.3e-3 / sympy.sqrt((width*pixel_size)**2 + (height*pixel_size)**2))\n",
    "display(crop_factor_eq.evalf())\n",
    "sams_crop_factor = 43.3e-3 / sympy.sqrt((width*pixel_size)**2 + (height*pixel_size)**2)"
   ]
  },
  {
   "cell_type": "markdown",
   "metadata": {},
   "source": [
    "According to [Wikipedia](https://en.wikipedia.org/wiki/Angle_of_view), the angle of view can be found as (with the crop factor taken into account):"
   ]
  },
  {
   "cell_type": "code",
   "execution_count": 3,
   "metadata": {},
   "outputs": [
    {
     "data": {
      "image/png": "[encoded data removed]",
      "text/latex": [
       "$$\\alpha = 2 \\operatorname{atan}{\\left (\\frac{C_{f} d}{2 f} \\right )}$$"
      ],
      "text/plain": [
       "          ⎛C_f⋅d⎞\n",
       "α = 2⋅atan⎜─────⎟\n",
       "          ⎝ 2⋅f ⎠"
      ]
     },
     "metadata": {},
     "output_type": "display_data"
    },
    {
     "data": {
      "image/png": "[encoded data removed]",
      "text/latex": [
       "$$\\alpha = 67.3394420284478$$"
      ],
      "text/plain": [
       "α = 67.3394420284478"
      ]
     },
     "metadata": {},
     "output_type": "display_data"
    }
   ],
   "source": [
    "alpha, d, f = sympy.symbols(\"alpha d f\")\n",
    "aov_eq = sympy.Eq(alpha, 2*sympy.atan(d/(2*(f/C_f))))\n",
    "display(aov_eq)\n",
    "d = sams_width*sams_pixel_size\n",
    "f = sams_focal_length\n",
    "C_f = sams_crop_factor\n",
    "aov_eq = sympy.Eq(alpha, 2*sympy.deg(sympy.atan(d/(2*(f/C_f)))))\n",
    "display(aov_eq.evalf())\n",
    "sams_aov = 2*sympy.deg(sympy.atan(d/(2*(f/C_f)))).evalf()"
   ]
  },
  {
   "cell_type": "markdown",
   "metadata": {},
   "source": [
    "The angle of view can be calculated along different vectors in a frame but there, for simplicity, we take the horizontal projection. As a result, we get the AOV to compare it later with an angular size of the Big Dipper asterism.\n",
    "\n",
    "For this next part, we will use Astropy package as a useful instrument for a wide variety of applied astronomical tasks. Query coordinates of two edgy stars – Alkaid and Dubhe – and calculate angular separation between them:"
   ]
  },
  {
   "cell_type": "code",
   "execution_count": 4,
   "metadata": {},
   "outputs": [
    {
     "name": "stdout",
     "output_type": "stream",
     "text": [
      "UMa angular size, deg: 25.708905207807256\n"
     ]
    }
   ],
   "source": [
    "from astropy.coordinates import SkyCoord\n",
    "\n",
    "uma_star1 = 'Alkaid'\n",
    "uma_star2 = 'Dubhe'\n",
    "uma_star1_coords = SkyCoord.from_name(uma_star1)\n",
    "uma_star2_coords = SkyCoord.from_name(uma_star2)\n",
    "\n",
    "sep = uma_star1_coords.separation(uma_star2_coords)\n",
    "print(\"UMa angular size, deg:\", sep.degree)"
   ]
  },
  {
   "cell_type": "markdown",
   "metadata": {},
   "source": [
    "That's simple. We now clearly see that the asterism truly can take a third of the camera' angle of view.\n",
    "\n",
    "Let's check yourself – using an amazing interactive sky atlas [Aladin](http://aladin.unistra.fr/AladinLite/?target=12%2024%2043.640%2B57%2031%2010.14&fov=27.29&survey=P%2FDSS2%2Fcolor) we can reconstruct the given photo but with this nice scale ruler placed in a field:\n",
    "\n",
    "![Aladin](https://raw.githubusercontent.com/ussserrr/aov-big-dipper/master/aladin.png)\n",
    "\n",
    "That's a confirmation to our computations!"
   ]
  },
  {
   "cell_type": "code",
   "execution_count": null,
   "metadata": {},
   "outputs": [],
   "source": []
  }
 ],
 "metadata": {
  "kernelspec": {
   "display_name": "Python 3",
   "language": "python",
   "name": "python3"
  },
  "language_info": {
   "codemirror_mode": {
    "name": "ipython",
    "version": 3
   },
   "file_extension": ".py",
   "mimetype": "text/x-python",
   "name": "python",
   "nbconvert_exporter": "python",
   "pygments_lexer": "ipython3",
   "version": "3.7.0"
  }
 },
 "nbformat": 4,
 "nbformat_minor": 2
}
